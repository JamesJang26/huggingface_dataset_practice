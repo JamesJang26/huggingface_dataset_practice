{
 "cells": [
  {
   "cell_type": "markdown",
   "id": "a90f1aed-9460-4e45-b2ac-a3509d023579",
   "metadata": {},
   "source": [
    "# 04. PyTorch Custom Datasets\n",
    "\n",
    "### Links\n",
    "#### 1) https://www.learnpytorch.io/04_pytorch_custom_datasets/\n",
    "#### 2) https://youtu.be/V_xro1bcAuA?si=bJ3NsMtIg1luC-Kl"
   ]
  },
  {
   "cell_type": "code",
   "execution_count": null,
   "id": "f72f75b1-213d-49ac-8369-d6b80e990605",
   "metadata": {},
   "outputs": [],
   "source": []
  },
  {
   "cell_type": "code",
   "execution_count": null,
   "id": "02aa623a-232a-434b-9ea0-55f2be7af68b",
   "metadata": {},
   "outputs": [],
   "source": []
  },
  {
   "cell_type": "code",
   "execution_count": null,
   "id": "2a1718df-f4d3-48c6-9e22-0d64f2a1d7c6",
   "metadata": {},
   "outputs": [],
   "source": []
  },
  {
   "cell_type": "code",
   "execution_count": null,
   "id": "03685a66-e58a-4913-95a6-18b0b9e3ec69",
   "metadata": {},
   "outputs": [],
   "source": []
  },
  {
   "cell_type": "code",
   "execution_count": null,
   "id": "6c36005f-6370-4768-9d87-053976c723c1",
   "metadata": {},
   "outputs": [],
   "source": []
  },
  {
   "cell_type": "code",
   "execution_count": null,
   "id": "85cc2417-5f36-4adc-b91e-9963ee62eef1",
   "metadata": {},
   "outputs": [],
   "source": []
  },
  {
   "cell_type": "code",
   "execution_count": null,
   "id": "f7563174-5fb9-4b94-bc06-df46df95897f",
   "metadata": {},
   "outputs": [],
   "source": []
  },
  {
   "cell_type": "code",
   "execution_count": null,
   "id": "53724300-35f5-401a-b874-f851ab9cfbdb",
   "metadata": {},
   "outputs": [],
   "source": []
  },
  {
   "cell_type": "code",
   "execution_count": null,
   "id": "5e78d1f2-2ad2-4086-b3c2-b3ae97e24e9e",
   "metadata": {},
   "outputs": [],
   "source": []
  },
  {
   "cell_type": "code",
   "execution_count": null,
   "id": "8c40ae04-0936-4ef7-b6d2-4d6c2f72268c",
   "metadata": {},
   "outputs": [],
   "source": []
  },
  {
   "cell_type": "code",
   "execution_count": null,
   "id": "5fdb9fa9-8fae-4d8b-a738-4916a7559f21",
   "metadata": {},
   "outputs": [],
   "source": []
  },
  {
   "cell_type": "code",
   "execution_count": null,
   "id": "1124084f-5145-4c80-91a1-6534699055aa",
   "metadata": {},
   "outputs": [],
   "source": []
  },
  {
   "cell_type": "code",
   "execution_count": null,
   "id": "dc5ec94a-3157-4d60-8277-75d1783f88ca",
   "metadata": {},
   "outputs": [],
   "source": []
  },
  {
   "cell_type": "code",
   "execution_count": null,
   "id": "2f35aa5d-45b6-44da-ae33-f24ca18f88e4",
   "metadata": {},
   "outputs": [],
   "source": []
  },
  {
   "cell_type": "code",
   "execution_count": null,
   "id": "d24e0e35-713a-4008-8a97-2c069a278747",
   "metadata": {},
   "outputs": [],
   "source": []
  },
  {
   "cell_type": "code",
   "execution_count": null,
   "id": "2f85c281-2f9b-4ca3-87ce-cccd5c1ad7be",
   "metadata": {},
   "outputs": [],
   "source": []
  }
 ],
 "metadata": {
  "kernelspec": {
   "display_name": "huggingface",
   "language": "python",
   "name": "huggingface"
  },
  "language_info": {
   "codemirror_mode": {
    "name": "ipython",
    "version": 3
   },
   "file_extension": ".py",
   "mimetype": "text/x-python",
   "name": "python",
   "nbconvert_exporter": "python",
   "pygments_lexer": "ipython3",
   "version": "3.8.18"
  }
 },
 "nbformat": 4,
 "nbformat_minor": 5
}
