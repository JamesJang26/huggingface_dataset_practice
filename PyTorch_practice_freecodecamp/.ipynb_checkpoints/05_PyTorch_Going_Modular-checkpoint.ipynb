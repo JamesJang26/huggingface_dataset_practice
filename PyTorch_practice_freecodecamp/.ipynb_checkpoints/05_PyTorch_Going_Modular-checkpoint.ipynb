{
 "cells": [
  {
   "cell_type": "markdown",
   "id": "d37f91bd-e41e-49bb-a583-a34e526b4974",
   "metadata": {},
   "source": [
    "# 05. PyTorch Going Modular\n",
    "\n",
    "### Links\n",
    "#### 1) https://www.learnpytorch.io/05_pytorch_going_modular/\n",
    "#### 2) https://youtu.be/V_xro1bcAuA?si=bJ3NsMtIg1luC-Kl"
   ]
  },
  {
   "cell_type": "code",
   "execution_count": 1,
   "id": "85ff5440-22a3-463f-b1bf-02b09b2f4f8c",
   "metadata": {},
   "outputs": [],
   "source": [
    "import os\n",
    "import requests\n",
    "import zipfile\n",
    "from pathlib import Path\n",
    "\n",
    "# Setup path to data folder\n",
    "data_path = Path(\"data/\")\n",
    "image_path = data_path / \"pizza_steak_sushi\"\n",
    "\n",
    "# If the image folder doesn't exist, download it and prepare it...\n",
    "if image_path.is_dir()"
   ]
  },
  {
   "cell_type": "code",
   "execution_count": null,
   "id": "1d8086eb-cd1e-48cc-9c10-a62b0e7d8963",
   "metadata": {},
   "outputs": [],
   "source": []
  },
  {
   "cell_type": "code",
   "execution_count": null,
   "id": "f586ab5c-9a29-4b6b-b64b-cb7422c26cbb",
   "metadata": {},
   "outputs": [],
   "source": []
  },
  {
   "cell_type": "code",
   "execution_count": null,
   "id": "db822ae1-2ff3-48b5-a1d1-697de071bb49",
   "metadata": {},
   "outputs": [],
   "source": []
  },
  {
   "cell_type": "code",
   "execution_count": null,
   "id": "19a8a2ae-2bbc-45cf-86e5-ab6a676c38cc",
   "metadata": {},
   "outputs": [],
   "source": []
  },
  {
   "cell_type": "code",
   "execution_count": null,
   "id": "7c006f83-35df-4181-855c-fa6f92c64ffb",
   "metadata": {},
   "outputs": [],
   "source": []
  },
  {
   "cell_type": "code",
   "execution_count": null,
   "id": "f4c3b2b6-21a8-45cb-849f-2b77b6b46450",
   "metadata": {},
   "outputs": [],
   "source": []
  },
  {
   "cell_type": "code",
   "execution_count": null,
   "id": "dc69e79d-eaf4-41a5-acee-92e8de6b214e",
   "metadata": {},
   "outputs": [],
   "source": []
  },
  {
   "cell_type": "code",
   "execution_count": null,
   "id": "2f705a58-2a35-4640-b764-da614a9baa69",
   "metadata": {},
   "outputs": [],
   "source": []
  },
  {
   "cell_type": "code",
   "execution_count": null,
   "id": "16c85def-aafd-402b-9feb-41df4a78b822",
   "metadata": {},
   "outputs": [],
   "source": []
  },
  {
   "cell_type": "code",
   "execution_count": null,
   "id": "d2c1f8d6-56df-41b6-a97e-1336d4f9bd01",
   "metadata": {},
   "outputs": [],
   "source": []
  },
  {
   "cell_type": "code",
   "execution_count": null,
   "id": "363e171c-20ba-47e2-ad42-bdece873d2be",
   "metadata": {},
   "outputs": [],
   "source": []
  },
  {
   "cell_type": "code",
   "execution_count": null,
   "id": "927b35ca-4cbe-41fa-9194-617320d33e87",
   "metadata": {},
   "outputs": [],
   "source": []
  },
  {
   "cell_type": "code",
   "execution_count": null,
   "id": "4a86e93d-855e-4b0f-bfb0-b1e7de032b75",
   "metadata": {},
   "outputs": [],
   "source": []
  },
  {
   "cell_type": "code",
   "execution_count": null,
   "id": "c8d8e01a-93d9-4ae9-b836-12162268ecdd",
   "metadata": {},
   "outputs": [],
   "source": []
  },
  {
   "cell_type": "code",
   "execution_count": null,
   "id": "9beeee9c-3845-4868-a3e0-02ad106e5ac1",
   "metadata": {},
   "outputs": [],
   "source": []
  }
 ],
 "metadata": {
  "kernelspec": {
   "display_name": "huggingface",
   "language": "python",
   "name": "huggingface"
  },
  "language_info": {
   "codemirror_mode": {
    "name": "ipython",
    "version": 3
   },
   "file_extension": ".py",
   "mimetype": "text/x-python",
   "name": "python",
   "nbconvert_exporter": "python",
   "pygments_lexer": "ipython3",
   "version": "3.8.18"
  }
 },
 "nbformat": 4,
 "nbformat_minor": 5
}
