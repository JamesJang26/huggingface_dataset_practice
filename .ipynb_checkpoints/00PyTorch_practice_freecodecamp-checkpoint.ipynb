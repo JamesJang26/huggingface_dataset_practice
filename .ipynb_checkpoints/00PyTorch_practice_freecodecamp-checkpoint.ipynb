{
 "cells": [
  {
   "cell_type": "markdown",
   "id": "c969032b-c1cc-4ea0-8bbc-6c2bc45d7d83",
   "metadata": {},
   "source": [
    "# PyTorch fundamentals practice\n",
    "\n",
    "### Links\n",
    "#### 1) https://www.learnpytorch.io/00_pytorch_fundamentals/\n",
    "#### 2) https://youtu.be/V_xro1bcAuA?si=bJ3NsMtIg1luC-Kl"
   ]
  },
  {
   "cell_type": "code",
   "execution_count": 1,
   "id": "5ca555c5",
   "metadata": {},
   "outputs": [
    {
     "data": {
      "text/plain": [
       "'1.13.1'"
      ]
     },
     "execution_count": 1,
     "metadata": {},
     "output_type": "execute_result"
    }
   ],
   "source": [
    "import torch\n",
    "torch.__version__"
   ]
  },
  {
   "cell_type": "code",
   "execution_count": 2,
   "id": "f4e5e01a",
   "metadata": {},
   "outputs": [
    {
     "name": "stdout",
     "output_type": "stream",
     "text": [
      "True\n"
     ]
    }
   ],
   "source": [
    "print(torch.cuda.is_available())"
   ]
  },
  {
   "cell_type": "code",
   "execution_count": 4,
   "id": "7dc91a2f",
   "metadata": {},
   "outputs": [
    {
     "ename": "NameError",
     "evalue": "name 'python' is not defined",
     "output_type": "error",
     "traceback": [
      "\u001b[1;31m---------------------------------------------------------------------------\u001b[0m",
      "\u001b[1;31mNameError\u001b[0m                                 Traceback (most recent call last)",
      "Cell \u001b[1;32mIn[4], line 1\u001b[0m\n\u001b[1;32m----> 1\u001b[0m \u001b[43mpython\u001b[49m\u001b[38;5;241m.\u001b[39m__version__\n",
      "\u001b[1;31mNameError\u001b[0m: name 'python' is not defined"
     ]
    }
   ],
   "source": [
    "python.__version__"
   ]
  },
  {
   "cell_type": "markdown",
   "id": "05695919-9954-430a-93e9-600389a9ac16",
   "metadata": {},
   "source": [
    "# 00. PyTorch Fundamentals"
   ]
  },
  {
   "cell_type": "code",
   "execution_count": 5,
   "id": "3d19a76f",
   "metadata": {},
   "outputs": [
    {
     "data": {
      "text/plain": [
       "tensor(7)"
      ]
     },
     "execution_count": 5,
     "metadata": {},
     "output_type": "execute_result"
    }
   ],
   "source": [
    "# Scalar\n",
    "scalar = torch.tensor(7)\n",
    "scalar"
   ]
  },
  {
   "cell_type": "code",
   "execution_count": 8,
   "id": "033022dc",
   "metadata": {},
   "outputs": [
    {
     "data": {
      "text/plain": [
       "int"
      ]
     },
     "execution_count": 8,
     "metadata": {},
     "output_type": "execute_result"
    }
   ],
   "source": [
    "a = 8\n",
    "type(a)"
   ]
  },
  {
   "cell_type": "code",
   "execution_count": 9,
   "id": "0ec57e88",
   "metadata": {},
   "outputs": [
    {
     "data": {
      "text/plain": [
       "0"
      ]
     },
     "execution_count": 9,
     "metadata": {},
     "output_type": "execute_result"
    }
   ],
   "source": [
    "scalar.ndim"
   ]
  },
  {
   "cell_type": "code",
   "execution_count": 10,
   "id": "135ee57f",
   "metadata": {},
   "outputs": [
    {
     "ename": "AttributeError",
     "evalue": "'int' object has no attribute 'ndim'",
     "output_type": "error",
     "traceback": [
      "\u001b[1;31m---------------------------------------------------------------------------\u001b[0m",
      "\u001b[1;31mAttributeError\u001b[0m                            Traceback (most recent call last)",
      "Cell \u001b[1;32mIn[10], line 1\u001b[0m\n\u001b[1;32m----> 1\u001b[0m \u001b[43ma\u001b[49m\u001b[38;5;241;43m.\u001b[39;49m\u001b[43mndim\u001b[49m\n",
      "\u001b[1;31mAttributeError\u001b[0m: 'int' object has no attribute 'ndim'"
     ]
    }
   ],
   "source": [
    "a.ndim"
   ]
  },
  {
   "cell_type": "code",
   "execution_count": 11,
   "id": "0136d12d",
   "metadata": {},
   "outputs": [
    {
     "data": {
      "text/plain": [
       "7"
      ]
     },
     "execution_count": 11,
     "metadata": {},
     "output_type": "execute_result"
    }
   ],
   "source": [
    "scalar.item()"
   ]
  },
  {
   "cell_type": "code",
   "execution_count": 12,
   "id": "d43aeafd",
   "metadata": {},
   "outputs": [
    {
     "data": {
      "text/plain": [
       "int"
      ]
     },
     "execution_count": 12,
     "metadata": {},
     "output_type": "execute_result"
    }
   ],
   "source": [
    "type(scalar.item())"
   ]
  },
  {
   "cell_type": "code",
   "execution_count": 13,
   "id": "36ec78a2",
   "metadata": {},
   "outputs": [
    {
     "ename": "AttributeError",
     "evalue": "'int' object has no attribute 'ndim'",
     "output_type": "error",
     "traceback": [
      "\u001b[1;31m---------------------------------------------------------------------------\u001b[0m",
      "\u001b[1;31mAttributeError\u001b[0m                            Traceback (most recent call last)",
      "Cell \u001b[1;32mIn[13], line 1\u001b[0m\n\u001b[1;32m----> 1\u001b[0m \u001b[43mscalar\u001b[49m\u001b[38;5;241;43m.\u001b[39;49m\u001b[43mitem\u001b[49m\u001b[43m(\u001b[49m\u001b[43m)\u001b[49m\u001b[38;5;241;43m.\u001b[39;49m\u001b[43mndim\u001b[49m\n",
      "\u001b[1;31mAttributeError\u001b[0m: 'int' object has no attribute 'ndim'"
     ]
    }
   ],
   "source": [
    "scalar.item().ndim"
   ]
  },
  {
   "cell_type": "code",
   "execution_count": 14,
   "id": "f2cf9c15",
   "metadata": {},
   "outputs": [
    {
     "data": {
      "text/plain": [
       "tensor([10, 10])"
      ]
     },
     "execution_count": 14,
     "metadata": {},
     "output_type": "execute_result"
    }
   ],
   "source": [
    "# Vector\n",
    "vector = torch.tensor([10, 10])\n",
    "vector"
   ]
  },
  {
   "cell_type": "code",
   "execution_count": 15,
   "id": "d00885d8",
   "metadata": {},
   "outputs": [
    {
     "data": {
      "text/plain": [
       "1"
      ]
     },
     "execution_count": 15,
     "metadata": {},
     "output_type": "execute_result"
    }
   ],
   "source": [
    "vector.ndim"
   ]
  },
  {
   "cell_type": "code",
   "execution_count": 18,
   "id": "036ba575",
   "metadata": {},
   "outputs": [
    {
     "ename": "ValueError",
     "evalue": "only one element tensors can be converted to Python scalars",
     "output_type": "error",
     "traceback": [
      "\u001b[1;31m---------------------------------------------------------------------------\u001b[0m",
      "\u001b[1;31mValueError\u001b[0m                                Traceback (most recent call last)",
      "Cell \u001b[1;32mIn[18], line 1\u001b[0m\n\u001b[1;32m----> 1\u001b[0m \u001b[43mvector\u001b[49m\u001b[38;5;241;43m.\u001b[39;49m\u001b[43mitem\u001b[49m\u001b[43m(\u001b[49m\u001b[43m)\u001b[49m\n",
      "\u001b[1;31mValueError\u001b[0m: only one element tensors can be converted to Python scalars"
     ]
    }
   ],
   "source": [
    "vector.item()"
   ]
  },
  {
   "cell_type": "code",
   "execution_count": 19,
   "id": "e45aea18",
   "metadata": {},
   "outputs": [
    {
     "data": {
      "text/plain": [
       "torch.Size([2])"
      ]
     },
     "execution_count": 19,
     "metadata": {},
     "output_type": "execute_result"
    }
   ],
   "source": [
    "vector.shape"
   ]
  },
  {
   "cell_type": "code",
   "execution_count": 22,
   "id": "b203d73f",
   "metadata": {},
   "outputs": [
    {
     "data": {
      "text/plain": [
       "torch.Size([])"
      ]
     },
     "execution_count": 22,
     "metadata": {},
     "output_type": "execute_result"
    }
   ],
   "source": [
    "scalar.shape"
   ]
  },
  {
   "cell_type": "code",
   "execution_count": 24,
   "id": "4ea24885",
   "metadata": {},
   "outputs": [
    {
     "data": {
      "text/plain": [
       "torch.Size([3])"
      ]
     },
     "execution_count": 24,
     "metadata": {},
     "output_type": "execute_result"
    }
   ],
   "source": [
    "vector2 = torch.tensor([1,1,1])\n",
    "vector2.shape"
   ]
  },
  {
   "cell_type": "code",
   "execution_count": 25,
   "id": "c6c85bae",
   "metadata": {},
   "outputs": [
    {
     "data": {
      "text/plain": [
       "tensor([[1, 2],\n",
       "        [3, 4]])"
      ]
     },
     "execution_count": 25,
     "metadata": {},
     "output_type": "execute_result"
    }
   ],
   "source": [
    "# Matrix\n",
    "matrix = torch.tensor([[1, 2],\n",
    "                       [3, 4]])\n",
    "matrix"
   ]
  },
  {
   "cell_type": "code",
   "execution_count": 30,
   "id": "de47f532",
   "metadata": {},
   "outputs": [
    {
     "data": {
      "text/plain": [
       "(2, torch.Size([2, 2]))"
      ]
     },
     "execution_count": 30,
     "metadata": {},
     "output_type": "execute_result"
    }
   ],
   "source": [
    "matrix.ndim, matrix.shape"
   ]
  },
  {
   "cell_type": "code",
   "execution_count": 28,
   "id": "b418ab7c",
   "metadata": {},
   "outputs": [
    {
     "ename": "ValueError",
     "evalue": "only one element tensors can be converted to Python scalars",
     "output_type": "error",
     "traceback": [
      "\u001b[1;31m---------------------------------------------------------------------------\u001b[0m",
      "\u001b[1;31mValueError\u001b[0m                                Traceback (most recent call last)",
      "Cell \u001b[1;32mIn[28], line 1\u001b[0m\n\u001b[1;32m----> 1\u001b[0m \u001b[43mmatrix\u001b[49m\u001b[38;5;241;43m.\u001b[39;49m\u001b[43mitem\u001b[49m\u001b[43m(\u001b[49m\u001b[43m)\u001b[49m\n",
      "\u001b[1;31mValueError\u001b[0m: only one element tensors can be converted to Python scalars"
     ]
    }
   ],
   "source": [
    "matrix.item()"
   ]
  },
  {
   "cell_type": "code",
   "execution_count": 31,
   "id": "61bef262",
   "metadata": {},
   "outputs": [
    {
     "data": {
      "text/plain": [
       "(<function Tensor.type>, 2, torch.Size([2, 4]))"
      ]
     },
     "execution_count": 31,
     "metadata": {},
     "output_type": "execute_result"
    }
   ],
   "source": [
    "matrix2 = torch.tensor([[1, 2, 3, 4],\n",
    "                        [5, 6, 7, 8]])\n",
    "matrix2.type, matrix2.ndim, matrix2.shape"
   ]
  },
  {
   "cell_type": "code",
   "execution_count": 32,
   "id": "4c793a30",
   "metadata": {},
   "outputs": [
    {
     "data": {
      "text/plain": [
       "(<function Tensor.type>, 3, torch.Size([1, 3, 3]))"
      ]
     },
     "execution_count": 32,
     "metadata": {},
     "output_type": "execute_result"
    }
   ],
   "source": [
    "# Tensor\n",
    "t = torch.tensor([[[1, 2, 3],\n",
    "                   [4, 5, 6],\n",
    "                   [7, 8, 9]]])\n",
    "t.type, t.ndim, t.shape"
   ]
  },
  {
   "cell_type": "code",
   "execution_count": 33,
   "id": "8158e186",
   "metadata": {},
   "outputs": [
    {
     "data": {
      "text/plain": [
       "(<function Tensor.type>, 3, torch.Size([2, 2, 3]))"
      ]
     },
     "execution_count": 33,
     "metadata": {},
     "output_type": "execute_result"
    }
   ],
   "source": [
    "t2 = torch.tensor([[[1, 2, 3],\n",
    "                    [4, 5, 6]],\n",
    "                   [[1, 2, 3],\n",
    "                    [4, 5, 6]]])\n",
    "t2.type, t2.ndim, t2.shape"
   ]
  },
  {
   "cell_type": "code",
   "execution_count": 35,
   "id": "10a6aa00",
   "metadata": {},
   "outputs": [
    {
     "data": {
      "text/plain": [
       "(tensor([[0.6462, 0.3290, 0.4330],\n",
       "         [0.1160, 0.0193, 0.9856]]),\n",
       " <function Tensor.type>,\n",
       " torch.float32,\n",
       " 2,\n",
       " torch.Size([2, 3]))"
      ]
     },
     "execution_count": 35,
     "metadata": {},
     "output_type": "execute_result"
    }
   ],
   "source": [
    "# Create a random tensor of size (2, 3)\n",
    "random_tensor = torch.rand(size=(2, 3))\n",
    "random_tensor, random_tensor.type, random_tensor.dtype, random_tensor.ndim, random_tensor.shape"
   ]
  },
  {
   "cell_type": "code",
   "execution_count": 36,
   "id": "59ded217",
   "metadata": {},
   "outputs": [
    {
     "data": {
      "text/plain": [
       "(torch.Size([64, 64, 3]), 3, torch.float32)"
      ]
     },
     "execution_count": 36,
     "metadata": {},
     "output_type": "execute_result"
    }
   ],
   "source": [
    "# Create a random tensor of size (64, 64, 3)\n",
    "random_image_size_tensor = torch.rand(size=(64, 64, 3))\n",
    "random_image_size_tensor.shape, random_image_size_tensor.ndim, random_image_size_tensor.dtype"
   ]
  },
  {
   "cell_type": "code",
   "execution_count": 37,
   "id": "c27daf48",
   "metadata": {},
   "outputs": [
    {
     "data": {
      "text/plain": [
       "(tensor([[0., 0., 0., 0.],\n",
       "         [0., 0., 0., 0.],\n",
       "         [0., 0., 0., 0.]]),\n",
       " torch.float32,\n",
       " torch.Size([3, 4]),\n",
       " 2)"
      ]
     },
     "execution_count": 37,
     "metadata": {},
     "output_type": "execute_result"
    }
   ],
   "source": [
    "# Create a tensor of all zeros\n",
    "zeros = torch.zeros(size=(3, 4))\n",
    "zeros, zeros.dtype, zeros.shape, zeros.ndim"
   ]
  },
  {
   "cell_type": "code",
   "execution_count": 38,
   "id": "b86d80de",
   "metadata": {},
   "outputs": [
    {
     "data": {
      "text/plain": [
       "(tensor([[1., 1., 1., 1.],\n",
       "         [1., 1., 1., 1.],\n",
       "         [1., 1., 1., 1.]]),\n",
       " torch.float32,\n",
       " 2,\n",
       " torch.Size([3, 4]))"
      ]
     },
     "execution_count": 38,
     "metadata": {},
     "output_type": "execute_result"
    }
   ],
   "source": [
    "# Create a tensor of all ones\n",
    "ones = torch.ones(size=(3, 4))\n",
    "ones, ones.dtype, ones.ndim, ones.shape"
   ]
  },
  {
   "cell_type": "code",
   "execution_count": 40,
   "id": "7916fb10",
   "metadata": {},
   "outputs": [
    {
     "name": "stderr",
     "output_type": "stream",
     "text": [
      "C:\\Users\\jds\\AppData\\Local\\Temp\\ipykernel_14932\\1842979774.py:2: UserWarning: torch.range is deprecated and will be removed in a future release because its behavior is inconsistent with Python's range builtin. Instead, use torch.arange, which produces values in [start, end).\n",
      "  zero_to_ten = torch.range(0, 10)\n"
     ]
    }
   ],
   "source": [
    "# Use torch.arange(), torch.range() is deprecated\n",
    "zero_to_ten = torch.range(0, 10)"
   ]
  },
  {
   "cell_type": "code",
   "execution_count": 41,
   "id": "5727ef73",
   "metadata": {},
   "outputs": [
    {
     "data": {
      "text/plain": [
       "(tensor([ 0, 10, 20, 30, 40, 50, 60, 70, 80, 90]),\n",
       " 1,\n",
       " torch.int64,\n",
       " torch.Size([10]))"
      ]
     },
     "execution_count": 41,
     "metadata": {},
     "output_type": "execute_result"
    }
   ],
   "source": [
    "# torch.arange(start, end, step)\n",
    "zero_to_ten = torch.arange(start=0, end=100, step=10)\n",
    "zero_to_ten, zero_to_ten.ndim, zero_to_ten.dtype, zero_to_ten.shape"
   ]
  },
  {
   "cell_type": "code",
   "execution_count": 42,
   "id": "677d0bee",
   "metadata": {},
   "outputs": [
    {
     "data": {
      "text/plain": [
       "(tensor([0, 0, 0, 0, 0, 0, 0, 0, 0, 0]), torch.Size([10]))"
      ]
     },
     "execution_count": 42,
     "metadata": {},
     "output_type": "execute_result"
    }
   ],
   "source": [
    "# Can also create a tensor of zeros or ones similar to another tensor\n",
    "tensor0_sameshape = torch.zeros_like(input=zero_to_ten)\n",
    "tensor0_sameshape, tensor0_sameshape.shape"
   ]
  },
  {
   "cell_type": "code",
   "execution_count": 43,
   "id": "8f3b1332",
   "metadata": {},
   "outputs": [
    {
     "data": {
      "text/plain": [
       "(tensor([1, 1, 1, 1, 1, 1, 1, 1, 1, 1]), torch.Size([10]))"
      ]
     },
     "execution_count": 43,
     "metadata": {},
     "output_type": "execute_result"
    }
   ],
   "source": [
    "tensor1_sameshape = torch.ones_like(input=zero_to_ten)\n",
    "tensor1_sameshape, tensor1_sameshape.shape"
   ]
  },
  {
   "cell_type": "code",
   "execution_count": 47,
   "id": "bcfab481",
   "metadata": {},
   "outputs": [
    {
     "data": {
      "text/plain": [
       "(tensor([3., 6., 9.]), 1, torch.Size([3]), torch.float32, device(type='cpu'))"
      ]
     },
     "execution_count": 47,
     "metadata": {},
     "output_type": "execute_result"
    }
   ],
   "source": [
    "# Default datatype for tensors is float32\n",
    "float32_tensor = torch.tensor([3.0, 6.0, 9.0],\n",
    "                              dtype=None, # defaults to None, which is torch.float32\n",
    "                              device=None, # defaults to None, which uses the default tensor type\n",
    "                              requires_grad=False) # if True, operations performed on the tensor are recorded\n",
    "float32_tensor, float32_tensor.ndim, float32_tensor.shape, float32_tensor.dtype, float32_tensor.device"
   ]
  },
  {
   "cell_type": "code",
   "execution_count": 57,
   "id": "9103939b",
   "metadata": {},
   "outputs": [
    {
     "data": {
      "text/plain": [
       "(tensor([[0., 0., 0.]], device='cuda:0', dtype=torch.float64),\n",
       " 2,\n",
       " torch.Size([1, 3]),\n",
       " torch.float64,\n",
       " device(type='cuda', index=0))"
      ]
     },
     "execution_count": 57,
     "metadata": {},
     "output_type": "execute_result"
    }
   ],
   "source": [
    "float32_tensor2 = torch.zeros(size=(1, 3),\n",
    "                              dtype=torch.float64,\n",
    "                              device=0,\n",
    "                              requires_grad=False)\n",
    "float32_tensor2, float32_tensor2.ndim, float32_tensor2.shape, float32_tensor2.dtype, float32_tensor2.device"
   ]
  },
  {
   "cell_type": "code",
   "execution_count": 61,
   "id": "d04ded7d",
   "metadata": {},
   "outputs": [
    {
     "name": "stdout",
     "output_type": "stream",
     "text": [
      "tensor([[[0.5988, 0.5915, 0.7183, 0.7900],\n",
      "         [0.5723, 0.3562, 0.5236, 0.1988],\n",
      "         [0.2853, 0.2414, 0.7062, 0.3502]],\n",
      "\n",
      "        [[0.7259, 0.3038, 0.9735, 0.1372],\n",
      "         [0.0221, 0.3270, 0.9707, 0.0322],\n",
      "         [0.0286, 0.1484, 0.7553, 0.4184]],\n",
      "\n",
      "        [[0.5480, 0.2932, 0.4956, 0.1576],\n",
      "         [0.4173, 0.5550, 0.7597, 0.7931],\n",
      "         [0.3475, 0.7797, 0.3534, 0.8146]]])\n",
      "Shape of tensor: torch.Size([3, 3, 4])\n",
      "Datatype of tensor: torch.float32\n",
      "Device tensor is stored on: cpu\n"
     ]
    }
   ],
   "source": [
    "# Getting information from tensors\n",
    "\n",
    "# Create a tensor\n",
    "new_tensor = torch.rand(size=(3, 3, 4))\n",
    "\n",
    "# Find out details about it\n",
    "print(new_tensor)\n",
    "print(f\"Shape of tensor: {new_tensor.shape}\") # What shape are my tensors?\n",
    "print(f\"Datatype of tensor: {new_tensor.dtype}\") # What datatype are my tensors?\n",
    "print(f\"Device tensor is stored on: {new_tensor.device}\") # Where are they stored?"
   ]
  },
  {
   "cell_type": "code",
   "execution_count": 64,
   "id": "9ed73cff",
   "metadata": {},
   "outputs": [
    {
     "name": "stdout",
     "output_type": "stream",
     "text": [
      "tensor([11, 12, 13])\n",
      "tensor([11, 12, 13])\n",
      "tensor([10, 20, 30])\n",
      "tensor([10, 20, 30])\n",
      "tensor([1, 2, 3])\n",
      "tensor([-9, -8, -7])\n"
     ]
    }
   ],
   "source": [
    "# Manipulating tensors: addition, substraction, multiplication(element-wise), division, matrix multiplication(dot product)\n",
    "tensor1 = torch.tensor([1, 2, 3])\n",
    "print(tensor1 + 10)\n",
    "print(torch.add(tensor1, 10))\n",
    "print(tensor1 * 10) # result isn't tensor[110, 120, 130] because the values inside the tensor don't change unless reassigned.\n",
    "print(torch.mul(tensor1, 10))\n",
    "print(tensor1)\n",
    "print(tensor1 - 10)"
   ]
  },
  {
   "cell_type": "code",
   "execution_count": 69,
   "id": "1fb2035d",
   "metadata": {},
   "outputs": [
    {
     "name": "stdout",
     "output_type": "stream",
     "text": [
      "tensor([1, 4, 9])\n"
     ]
    },
    {
     "data": {
      "text/plain": [
       "(1, torch.Size([3]), torch.int64)"
      ]
     },
     "execution_count": 69,
     "metadata": {},
     "output_type": "execute_result"
    }
   ],
   "source": [
    "# Element-wise multiplication\n",
    "a = tensor1*tensor1\n",
    "print(a)\n",
    "a.ndim, a.shape, a.dtype"
   ]
  },
  {
   "cell_type": "code",
   "execution_count": 70,
   "id": "c9d49d4a",
   "metadata": {},
   "outputs": [],
   "source": [
    "# Matrix multiplication\n",
    "# 1) inner dimensions must match\n",
    "# 2) resulting matrix has the shape of the outer dimensions\n",
    "# @ in python is the symbol for matrix multiplication."
   ]
  },
  {
   "cell_type": "code",
   "execution_count": 71,
   "id": "585241e4",
   "metadata": {},
   "outputs": [
    {
     "data": {
      "text/plain": [
       "torch.Size([3])"
      ]
     },
     "execution_count": 71,
     "metadata": {},
     "output_type": "execute_result"
    }
   ],
   "source": [
    "tensor_mat = torch.tensor([1, 2, 3])\n",
    "tensor_mat.shape"
   ]
  },
  {
   "cell_type": "code",
   "execution_count": 72,
   "id": "be95c445-8f1f-411d-9b28-d3cebc4140e5",
   "metadata": {},
   "outputs": [
    {
     "name": "stdout",
     "output_type": "stream",
     "text": [
      "tensor([1, 4, 9])\n",
      "tensor(14)\n",
      "tensor(14)\n"
     ]
    }
   ],
   "source": [
    "print(tensor_mat * tensor_mat)\n",
    "print(torch.matmul(tensor_mat, tensor_mat))\n",
    "print(tensor_mat @ tensor_mat)"
   ]
  },
  {
   "cell_type": "code",
   "execution_count": 79,
   "id": "614db53f-4610-48a4-9a0c-0327594e0d88",
   "metadata": {},
   "outputs": [
    {
     "data": {
      "text/plain": [
       "tensor([[10]])"
      ]
     },
     "execution_count": 79,
     "metadata": {},
     "output_type": "execute_result"
    }
   ],
   "source": [
    "a = torch.tensor([[1, 2, 3]])\n",
    "b = torch.tensor([[3],\n",
    "                 [2],\n",
    "                 [1]])\n",
    "a@b"
   ]
  },
  {
   "cell_type": "code",
   "execution_count": 90,
   "id": "59c1f162-4491-4b0b-aa25-3f0db6aa4878",
   "metadata": {},
   "outputs": [
    {
     "name": "stdout",
     "output_type": "stream",
     "text": [
      "CPU times: total: 0 ns\n",
      "Wall time: 0 ns\n"
     ]
    },
    {
     "data": {
      "text/plain": [
       "tensor(30.)"
      ]
     },
     "execution_count": 90,
     "metadata": {},
     "output_type": "execute_result"
    }
   ],
   "source": [
    "%%time\n",
    "# Matrix multiplication by hand\n",
    "# Avoid doing operations with for loops at all cost, they are computationally expensive\n",
    "c = torch.ones(30)\n",
    "value = 0\n",
    "for i in range(len(c)):\n",
    "    value += c[i] * c[i]\n",
    "value"
   ]
  },
  {
   "cell_type": "code",
   "execution_count": 91,
   "id": "0c44f631-ab4c-490e-9960-5c25357e68c1",
   "metadata": {},
   "outputs": [
    {
     "name": "stdout",
     "output_type": "stream",
     "text": [
      "CPU times: total: 0 ns\n",
      "Wall time: 0 ns\n"
     ]
    },
    {
     "data": {
      "text/plain": [
       "tensor(30.)"
      ]
     },
     "execution_count": 91,
     "metadata": {},
     "output_type": "execute_result"
    }
   ],
   "source": [
    "%%time\n",
    "torch.matmul(c, c) # 여기선 연산이 너무 쉬워서 그런가 결과 차이가 안남. 0 ns로 측정되고."
   ]
  },
  {
   "cell_type": "code",
   "execution_count": 92,
   "id": "3ce6ce98-0b7d-4d30-b404-95d9d904f835",
   "metadata": {},
   "outputs": [
    {
     "ename": "RuntimeError",
     "evalue": "mat1 and mat2 shapes cannot be multiplied (3x2 and 3x2)",
     "output_type": "error",
     "traceback": [
      "\u001b[1;31m---------------------------------------------------------------------------\u001b[0m",
      "\u001b[1;31mRuntimeError\u001b[0m                              Traceback (most recent call last)",
      "Cell \u001b[1;32mIn[92], line 8\u001b[0m\n\u001b[0;32m      2\u001b[0m tensor_A \u001b[38;5;241m=\u001b[39m torch\u001b[38;5;241m.\u001b[39mtensor([[\u001b[38;5;241m1\u001b[39m, \u001b[38;5;241m2\u001b[39m],\n\u001b[0;32m      3\u001b[0m                          [\u001b[38;5;241m3\u001b[39m, \u001b[38;5;241m4\u001b[39m],\n\u001b[0;32m      4\u001b[0m                          [\u001b[38;5;241m5\u001b[39m, \u001b[38;5;241m6\u001b[39m]], dtype\u001b[38;5;241m=\u001b[39mtorch\u001b[38;5;241m.\u001b[39mfloat32)\n\u001b[0;32m      5\u001b[0m tensor_B \u001b[38;5;241m=\u001b[39m torch\u001b[38;5;241m.\u001b[39mtensor([[\u001b[38;5;241m7\u001b[39m, \u001b[38;5;241m8\u001b[39m],\n\u001b[0;32m      6\u001b[0m                          [\u001b[38;5;241m9\u001b[39m, \u001b[38;5;241m10\u001b[39m],\n\u001b[0;32m      7\u001b[0m                          [\u001b[38;5;241m11\u001b[39m, \u001b[38;5;241m12\u001b[39m]], dtype\u001b[38;5;241m=\u001b[39mtorch\u001b[38;5;241m.\u001b[39mfloat32)\n\u001b[1;32m----> 8\u001b[0m \u001b[43mtorch\u001b[49m\u001b[38;5;241;43m.\u001b[39;49m\u001b[43mmatmul\u001b[49m\u001b[43m(\u001b[49m\u001b[43mtensor_A\u001b[49m\u001b[43m,\u001b[49m\u001b[43m \u001b[49m\u001b[43mtensor_B\u001b[49m\u001b[43m)\u001b[49m\n",
      "\u001b[1;31mRuntimeError\u001b[0m: mat1 and mat2 shapes cannot be multiplied (3x2 and 3x2)"
     ]
    }
   ],
   "source": [
    "# One of the most common errosr in deep learning: shape errors\n",
    "tensor_A = torch.tensor([[1, 2],\n",
    "                         [3, 4],\n",
    "                         [5, 6]], dtype=torch.float32)\n",
    "tensor_B = torch.tensor([[7, 8],\n",
    "                         [9, 10],\n",
    "                         [11, 12]], dtype=torch.float32)\n",
    "torch.matmul(tensor_A, tensor_B)"
   ]
  },
  {
   "cell_type": "code",
   "execution_count": 98,
   "id": "571c0aad-b7c8-458d-98f9-54e4715918b7",
   "metadata": {},
   "outputs": [
    {
     "name": "stdout",
     "output_type": "stream",
     "text": [
      "tensor([[ 7.,  9., 11.],\n",
      "        [ 8., 10., 12.]])\n",
      "tensor([[ 7.,  9., 11.],\n",
      "        [ 8., 10., 12.]])\n"
     ]
    }
   ],
   "source": [
    "# 1) torch.transpose(input, dim0, dim1)\n",
    "# 2) tensor.T\n",
    "# 두가지 방법 중 하나로 transpose하고 matmul하면됨.\n",
    "\n",
    "print(torch.transpose(tensor_B, 0, 1)) # 바꾸고자 하는 차원의 index number를 각각 적어주면 됨. 여기선 0, 1이니까 행, 열 차원을 서로 바꾸겠다는 의미\n",
    "# 3차원...등 다차원 행렬로 넘어가면 마찬가지로 바꾸고자 하는 해당 차원들의 index number를 각각 적어주면 됨.\n",
    "print(tensor_B.T)"
   ]
  },
  {
   "cell_type": "code",
   "execution_count": 99,
   "id": "ec0eaef5-8d28-439e-911c-de322815206d",
   "metadata": {},
   "outputs": [
    {
     "name": "stdout",
     "output_type": "stream",
     "text": [
      "tensor([[ 23.,  29.,  35.],\n",
      "        [ 53.,  67.,  81.],\n",
      "        [ 83., 105., 127.]])\n",
      "tensor([[ 23.,  29.,  35.],\n",
      "        [ 53.,  67.,  81.],\n",
      "        [ 83., 105., 127.]])\n"
     ]
    }
   ],
   "source": [
    "print(torch.matmul(tensor_A, tensor_B.T))\n",
    "print(tensor_A @ tensor_B.T)"
   ]
  },
  {
   "cell_type": "code",
   "execution_count": 100,
   "id": "d42a23fc-71e6-4fb0-8172-b04bf98bf43a",
   "metadata": {},
   "outputs": [
    {
     "name": "stdout",
     "output_type": "stream",
     "text": [
      "tensor([[ 89.,  98.],\n",
      "        [116., 128.]])\n",
      "tensor([[ 89.,  98.],\n",
      "        [116., 128.]])\n"
     ]
    }
   ],
   "source": [
    "print(torch.matmul(tensor_A.T, tensor_B))\n",
    "print(tensor_A.T @ tensor_B)"
   ]
  },
  {
   "cell_type": "code",
   "execution_count": 102,
   "id": "7b55a733-1013-460f-98f6-49b326f65cab",
   "metadata": {},
   "outputs": [
    {
     "name": "stdout",
     "output_type": "stream",
     "text": [
      "tensor([[ 89.,  98.],\n",
      "        [116., 128.]])\n",
      "tensor([[ 23.,  29.,  35.],\n",
      "        [ 53.,  67.,  81.],\n",
      "        [ 83., 105., 127.]])\n"
     ]
    }
   ],
   "source": [
    "# torch.matmul대신에 torch.mm써도됨.\n",
    "print(torch.mm(tensor_A.T, tensor_B))\n",
    "print(torch.mm(tensor_A, tensor_B.T))"
   ]
  },
  {
   "cell_type": "code",
   "execution_count": 110,
   "id": "50cdb6be-64c3-4ff6-be94-0e1472f044fc",
   "metadata": {},
   "outputs": [
    {
     "name": "stdout",
     "output_type": "stream",
     "text": [
      "<bound method Module.type of Linear(in_features=3, out_features=8, bias=True)>\n",
      "tensor([[1., 3., 5.],\n",
      "        [2., 4., 6.]]) \n",
      "\n",
      "Input shape: torch.Size([2, 3])\n",
      "\n",
      "Output: \n",
      "tensor([[ 0.7470,  0.4672,  3.1179,  1.2751,  2.1076,  1.1101, -0.6367,  0.6534],\n",
      "        [ 1.5323,  0.9876,  3.6848,  1.4614,  2.8907,  1.5590, -1.0250,  0.7341]],\n",
      "       grad_fn=<AddmmBackward0>)\n",
      "\n",
      "Output shape: torch.Size([2, 8])\n"
     ]
    }
   ],
   "source": [
    "# Visualizing\n",
    "\n",
    "# Since the linear layer starts with a rondom weights matrix, let's make it reproducable.\n",
    "torch.manual_seed(42)\n",
    "# This uses matrix multiplication\n",
    "linear = torch.nn.Linear(in_features=3, # in_features = matches inner dimension of input\n",
    "                         out_features=8) # out_features = matches outer dimension\n",
    "x = tensor_A.T\n",
    "output = linear(x)\n",
    "print(linear.type)\n",
    "print(x, \"\\n\")\n",
    "print(f\"Input shape: {x.shape}\\n\")\n",
    "print(f\"Output: \\n{output}\\n\\nOutput shape: {output.shape}\")"
   ]
  },
  {
   "cell_type": "code",
   "execution_count": 111,
   "id": "0b8e14fa-9b36-4304-8369-32f848d6694f",
   "metadata": {},
   "outputs": [
    {
     "name": "stdout",
     "output_type": "stream",
     "text": [
      "1\n"
     ]
    },
    {
     "data": {
      "text/plain": [
       "tensor([ 0, 10, 20, 30, 40, 50, 60, 70, 80, 90])"
      ]
     },
     "execution_count": 111,
     "metadata": {},
     "output_type": "execute_result"
    }
   ],
   "source": [
    "# Finding the min, max, mean, sum, etc\n",
    "\n",
    "x = torch.arange(0, 100, 10)\n",
    "print(x.ndim)\n",
    "x"
   ]
  },
  {
   "cell_type": "code",
   "execution_count": 112,
   "id": "9c0cd0eb-dd41-4fb6-936e-ba99133bfae5",
   "metadata": {},
   "outputs": [
    {
     "name": "stdout",
     "output_type": "stream",
     "text": [
      "Minimum: 0\n",
      "Maximum: 90\n"
     ]
    }
   ],
   "source": [
    "print(f\"Minimum: {x.min()}\")\n",
    "print(f\"Maximum: {x.max()}\")"
   ]
  },
  {
   "cell_type": "code",
   "execution_count": 113,
   "id": "f22d1500-ebad-4eba-a96b-d1f68abe1e9a",
   "metadata": {},
   "outputs": [
    {
     "ename": "RuntimeError",
     "evalue": "mean(): could not infer output dtype. Input dtype must be either a floating point or complex dtype. Got: Long",
     "output_type": "error",
     "traceback": [
      "\u001b[1;31m---------------------------------------------------------------------------\u001b[0m",
      "\u001b[1;31mRuntimeError\u001b[0m                              Traceback (most recent call last)",
      "Cell \u001b[1;32mIn[113], line 1\u001b[0m\n\u001b[1;32m----> 1\u001b[0m \u001b[38;5;28mprint\u001b[39m(\u001b[38;5;124mf\u001b[39m\u001b[38;5;124m\"\u001b[39m\u001b[38;5;124mMean: \u001b[39m\u001b[38;5;132;01m{\u001b[39;00mx\u001b[38;5;241m.\u001b[39mmean()\u001b[38;5;132;01m}\u001b[39;00m\u001b[38;5;124m\"\u001b[39m)\n",
      "\u001b[1;31mRuntimeError\u001b[0m: mean(): could not infer output dtype. Input dtype must be either a floating point or complex dtype. Got: Long"
     ]
    }
   ],
   "source": [
    "print(f\"Mean: {x.mean()}\")"
   ]
  },
  {
   "cell_type": "code",
   "execution_count": 116,
   "id": "d0bb26d5-95af-4db3-b5ab-ea6465f27570",
   "metadata": {},
   "outputs": [
    {
     "name": "stdout",
     "output_type": "stream",
     "text": [
      "Mean: 45.0\n",
      "Sum: 450\n"
     ]
    }
   ],
   "source": [
    "print(f\"Mean: {x.type(torch.float32).mean()}\")\n",
    "print(f\"Sum: {x.sum()}\")"
   ]
  },
  {
   "cell_type": "code",
   "execution_count": 120,
   "id": "9e69d417-29e9-428c-8f1e-3d07947d32f0",
   "metadata": {},
   "outputs": [
    {
     "name": "stdout",
     "output_type": "stream",
     "text": [
      "Tensor: tensor([10, 20, 30, 40, 50, 60, 70, 80, 90])\n",
      "torch.Size([9])\n",
      "1\n",
      "Index where max value occurs: 8\n",
      "Index where min value occurs: 0\n"
     ]
    }
   ],
   "source": [
    "# positional min/max\n",
    "tensor = torch.arange(10, 100, 10)\n",
    "print(f\"Tensor: {tensor}\")\n",
    "\n",
    "# Returns index of max and min values\n",
    "print(tensor.shape)\n",
    "print(tensor.ndim)\n",
    "print(f\"Index where max value occurs: {tensor.argmax()}\")\n",
    "print(f\"Index where min value occurs: {tensor.argmin()}\")"
   ]
  },
  {
   "cell_type": "code",
   "execution_count": 122,
   "id": "7f92a1cf-be8b-4fa1-ad82-75602d79aee2",
   "metadata": {},
   "outputs": [
    {
     "name": "stdout",
     "output_type": "stream",
     "text": [
      "torch.Size([2, 3])\n",
      "2\n",
      "tensor(5)\n"
     ]
    }
   ],
   "source": [
    "# 2차원 이상의 tensor에서는 argmax, argmin이 어떻게 작용할까?\n",
    "a = torch.tensor([[1, 2, 3],\n",
    "                  [4, 5, 6]])\n",
    "print(a.shape)\n",
    "print(a.ndim)\n",
    "print(a.argmax())"
   ]
  },
  {
   "cell_type": "code",
   "execution_count": 123,
   "id": "cdb4d01b-3b70-47f1-bccc-02cba523f0fd",
   "metadata": {},
   "outputs": [
    {
     "data": {
      "text/plain": [
       "torch.float32"
      ]
     },
     "execution_count": 123,
     "metadata": {},
     "output_type": "execute_result"
    }
   ],
   "source": [
    "# Change tensor datatype\n",
    "\n",
    "tensor = torch.arange(10., 100., 10.)\n",
    "tensor.dtype"
   ]
  },
  {
   "cell_type": "code",
   "execution_count": 124,
   "id": "a75835f6-8b77-4f20-ac6a-add903476174",
   "metadata": {},
   "outputs": [
    {
     "data": {
      "text/plain": [
       "tensor([10., 20., 30., 40., 50., 60., 70., 80., 90.], dtype=torch.float16)"
      ]
     },
     "execution_count": 124,
     "metadata": {},
     "output_type": "execute_result"
    }
   ],
   "source": [
    "# Create a float16 tensor\n",
    "tensor_float16 = tensor.type(torch.float16)\n",
    "tensor_float16"
   ]
  },
  {
   "cell_type": "code",
   "execution_count": 130,
   "id": "26521d2f-ab56-44c9-82be-6130d1dd7f0a",
   "metadata": {},
   "outputs": [
    {
     "data": {
      "text/plain": [
       "tensor([10, 20, 30, 40, 50, 60, 70, 80, 90], dtype=torch.int8)"
      ]
     },
     "execution_count": 130,
     "metadata": {},
     "output_type": "execute_result"
    }
   ],
   "source": [
    "# Create a int8 tensor\n",
    "tensor_int8 = tensor.type(torch.int8)\n",
    "tensor_int8"
   ]
  },
  {
   "cell_type": "code",
   "execution_count": 131,
   "id": "9115a4b2-68d3-404b-b52b-226c798a3602",
   "metadata": {},
   "outputs": [
    {
     "data": {
      "text/plain": [
       "(tensor([1., 2., 3., 4., 5., 6., 7.]), torch.Size([7]))"
      ]
     },
     "execution_count": 131,
     "metadata": {},
     "output_type": "execute_result"
    }
   ],
   "source": [
    "# Reshaping, stacking, squeezing and unsqueezing\n",
    "x = torch.arange(1., 8.)\n",
    "x, x.shape"
   ]
  },
  {
   "cell_type": "code",
   "execution_count": 144,
   "id": "8cf82cdc-0f81-49c2-a8d6-c857b066d55f",
   "metadata": {},
   "outputs": [
    {
     "data": {
      "text/plain": [
       "(tensor([[[[[5., 2., 3., 4., 5., 6., 7.]]]]]), torch.Size([1, 1, 1, 1, 7]))"
      ]
     },
     "execution_count": 144,
     "metadata": {},
     "output_type": "execute_result"
    }
   ],
   "source": [
    "# add an extra dimension\n",
    "x_reshaped = x.reshape(1, 1, 1, 1, 7)\n",
    "x_reshaped, x_reshaped.shape"
   ]
  },
  {
   "cell_type": "code",
   "execution_count": 137,
   "id": "440a8b39-2709-41ea-9610-58b738950d0b",
   "metadata": {},
   "outputs": [
    {
     "data": {
      "text/plain": [
       "(tensor([[1., 2., 3., 4., 5., 6., 7.]]),\n",
       " torch.Size([1, 7]),\n",
       " tensor([1., 2., 3., 4., 5., 6., 7.]),\n",
       " torch.Size([7]))"
      ]
     },
     "execution_count": 137,
     "metadata": {},
     "output_type": "execute_result"
    }
   ],
   "source": [
    "# Change view (keeps same data as original but changes view)\n",
    "z = x.view(1, 7)\n",
    "z, z.shape, x, x.shape"
   ]
  },
  {
   "cell_type": "code",
   "execution_count": 138,
   "id": "a9258557-c5a1-4a52-b1dd-a8e086ea26c6",
   "metadata": {},
   "outputs": [
    {
     "data": {
      "text/plain": [
       "(tensor([[5., 2., 3., 4., 5., 6., 7.]]), tensor([5., 2., 3., 4., 5., 6., 7.]))"
      ]
     },
     "execution_count": 138,
     "metadata": {},
     "output_type": "execute_result"
    }
   ],
   "source": [
    "# But changing the view of a tensor with torch.view() really only creates a new view of the same tensor.\n",
    "# So, changing the view changes the original tensor too.\n",
    "# https://stackoverflow.com/a/54507446/7900723\n",
    "z[:, 0] = 5\n",
    "z, x"
   ]
  },
  {
   "cell_type": "code",
   "execution_count": 139,
   "id": "ea54e32e-2de5-4478-b1f3-64b9e9f6d2c2",
   "metadata": {},
   "outputs": [
    {
     "data": {
      "text/plain": [
       "tensor([[5., 2., 3., 4., 5., 6., 7.],\n",
       "        [5., 2., 3., 4., 5., 6., 7.],\n",
       "        [5., 2., 3., 4., 5., 6., 7.],\n",
       "        [5., 2., 3., 4., 5., 6., 7.]])"
      ]
     },
     "execution_count": 139,
     "metadata": {},
     "output_type": "execute_result"
    }
   ],
   "source": [
    "# Stack tensors on top of each other\n",
    "x_stacked = torch.stack([x, x, x, x], dim=0)\n",
    "x_stacked"
   ]
  },
  {
   "cell_type": "code",
   "execution_count": 142,
   "id": "a759a832-04ca-49c5-b39c-e60b2c1c5191",
   "metadata": {},
   "outputs": [
    {
     "data": {
      "text/plain": [
       "tensor([[5., 5., 5., 5.],\n",
       "        [2., 2., 2., 2.],\n",
       "        [3., 3., 3., 3.],\n",
       "        [4., 4., 4., 4.],\n",
       "        [5., 5., 5., 5.],\n",
       "        [6., 6., 6., 6.],\n",
       "        [7., 7., 7., 7.]])"
      ]
     },
     "execution_count": 142,
     "metadata": {},
     "output_type": "execute_result"
    }
   ],
   "source": [
    "x_stacked_1 = torch.stack([x, x, x, x], dim=1)\n",
    "x_stacked_1"
   ]
  },
  {
   "cell_type": "code",
   "execution_count": 145,
   "id": "952b3632-0947-4a24-af63-1c1042690147",
   "metadata": {},
   "outputs": [
    {
     "name": "stdout",
     "output_type": "stream",
     "text": [
      "Previous tensor: tensor([[[[[5., 2., 3., 4., 5., 6., 7.]]]]])\n",
      "Previous tensor: torch.Size([1, 1, 1, 1, 7])\n",
      "\n",
      "New tensor: tensor([5., 2., 3., 4., 5., 6., 7.])\n",
      "New shape: torch.Size([7])\n"
     ]
    }
   ],
   "source": [
    "# Remove all single dimensions from a tensor: squeezing the tensor to only have dimensions over 1.\n",
    "print(f\"Previous tensor: {x_reshaped}\")\n",
    "print(f\"Previous tensor: {x_reshaped.shape}\")\n",
    "\n",
    "x_squeezed = x_reshaped.squeeze()\n",
    "print(f\"\\nNew tensor: {x_squeezed}\")\n",
    "print(f\"New shape: {x_squeezed.shape}\")"
   ]
  },
  {
   "cell_type": "code",
   "execution_count": 150,
   "id": "54a9eede-eebd-48aa-a164-3137f4e20196",
   "metadata": {},
   "outputs": [
    {
     "name": "stdout",
     "output_type": "stream",
     "text": [
      "torch.Size([3, 1])\n",
      "tensor([[1],\n",
      "        [3],\n",
      "        [4]])\n",
      "torch.Size([3])\n",
      "tensor([1, 3, 4])\n"
     ]
    }
   ],
   "source": [
    "# squeeze()는 오직 크기가 1인 차원에만 영향을 준다.\n",
    "a = torch.tensor([[1],\n",
    "                  [3],\n",
    "                  [4]])\n",
    "print(a.shape)\n",
    "print(a)\n",
    "print(a.squeeze().shape)\n",
    "print(a.squeeze())"
   ]
  },
  {
   "cell_type": "code",
   "execution_count": 160,
   "id": "e842ba4b-76c5-4db5-8aab-e18d56ea638b",
   "metadata": {},
   "outputs": [
    {
     "name": "stdout",
     "output_type": "stream",
     "text": [
      "Previous tensor: tensor([5., 2., 3., 4., 5., 6., 7.])\n",
      "Previous shape: torch.Size([7])\n",
      "\n",
      "New tensor: tensor([[5., 2., 3., 4., 5., 6., 7.]])\n",
      "New shape: torch.Size([1, 7])\n",
      "\n",
      "tensor([[[5., 2., 3., 4., 5., 6., 7.]]])\n"
     ]
    }
   ],
   "source": [
    "print(f\"Previous tensor: {x_squeezed}\")\n",
    "print(f\"Previous shape: {x_squeezed.shape}\")\n",
    "\n",
    "# add an extra dimension with unsqueeze\n",
    "x_unsqueezed = x_squeezed.unsqueeze(dim=0)\n",
    "print(f\"\\nNew tensor: {x_unsqueezed}\")\n",
    "print(f\"New shape: {x_unsqueezed.shape}\\n\")\n",
    "\n",
    "xx = x_unsqueezed.unsqueeze(dim=0)\n",
    "print(xx)"
   ]
  },
  {
   "cell_type": "code",
   "execution_count": 161,
   "id": "3bb885ce-c404-432c-8a17-3618a7b3d8be",
   "metadata": {},
   "outputs": [
    {
     "name": "stdout",
     "output_type": "stream",
     "text": [
      "Previous shape: torch.Size([224, 224, 3])\n",
      "New shape: torch.Size([3, 224, 224])\n"
     ]
    }
   ],
   "source": [
    "x_original = torch.rand(size=(224, 224, 3))\n",
    "\n",
    "# permute the original tensor to rearrange the axis order\n",
    "x_permuted = x_original.permute(2, 0, 1) # shifts axis 0->1, 1->2, 2->0\n",
    "\n",
    "print(f\"Previous shape: {x_original.shape}\")\n",
    "print(f\"New shape: {x_permuted.shape}\")"
   ]
  },
  {
   "cell_type": "code",
   "execution_count": 163,
   "id": "69f2f899-f783-4b1a-b551-38ed52e49551",
   "metadata": {},
   "outputs": [
    {
     "data": {
      "text/plain": [
       "(tensor([[[1, 2, 3],\n",
       "          [4, 5, 6],\n",
       "          [7, 8, 9]]]),\n",
       " torch.Size([1, 3, 3]))"
      ]
     },
     "execution_count": 163,
     "metadata": {},
     "output_type": "execute_result"
    }
   ],
   "source": [
    "# indexing(selecting data from tensors)\n",
    "x = torch.arange(1, 10).reshape(1, 3, 3)\n",
    "x, x.shape"
   ]
  },
  {
   "cell_type": "code",
   "execution_count": 165,
   "id": "d1892e3c-2bb9-4b60-99d3-ca36d5114450",
   "metadata": {},
   "outputs": [
    {
     "name": "stdout",
     "output_type": "stream",
     "text": [
      "First square bracket:\n",
      "tensor([[1, 2, 3],\n",
      "        [4, 5, 6],\n",
      "        [7, 8, 9]])\n",
      "Second square bracket:\n",
      "tensor([1, 2, 3])\n",
      "Third square bracket:\n",
      "1\n"
     ]
    }
   ],
   "source": [
    "# indexing values goes outer dimension -> inner dimension\n",
    "print(f\"First square bracket:\\n{x[0]}\")\n",
    "print(f\"Second square bracket:\\n{x[0][0]}\")\n",
    "print(f\"Third square bracket:\\n{x[0][0][0]}\")"
   ]
  },
  {
   "cell_type": "code",
   "execution_count": 167,
   "id": "fae99f90-1633-4b39-9b12-be25b77a5ad4",
   "metadata": {},
   "outputs": [
    {
     "name": "stdout",
     "output_type": "stream",
     "text": [
      "tensor([[1, 2, 3]])\n",
      "tensor([[2, 5, 8]])\n",
      "tensor([5])\n"
     ]
    },
    {
     "data": {
      "text/plain": [
       "tensor([1, 2, 3])"
      ]
     },
     "execution_count": 167,
     "metadata": {},
     "output_type": "execute_result"
    }
   ],
   "source": [
    "# 이 부분 좀 이해 안됨 아직...\n",
    "# Get all values of 0th dimension and the 0 index of 1st dimension\n",
    "print(x[:, 0])\n",
    "\n",
    "# Get all values of 0th & 1st dimensions but only index 1 and 2nd dimension\n",
    "print(x[:, :, 1])\n",
    "\n",
    "# Get all values of the 0 dimension but only the 1 index value of the 1st and 2nd dimension\n",
    "print(x[:, 1, 1])\n",
    "\n",
    "# Get index 0 of 0th and 1st dimension and all values of 2nd dimension\n",
    "x[0, 0, :]"
   ]
  },
  {
   "cell_type": "code",
   "execution_count": 172,
   "id": "80b87928-65c7-4d5c-92b1-9801c83bacd2",
   "metadata": {},
   "outputs": [
    {
     "data": {
      "text/plain": [
       "(array([1., 2., 3., 4., 5., 6., 7.]),\n",
       " tensor([1., 2., 3., 4., 5., 6., 7.], dtype=torch.float64),\n",
       " torch.float32)"
      ]
     },
     "execution_count": 172,
     "metadata": {},
     "output_type": "execute_result"
    }
   ],
   "source": [
    "# PyTorch tensors & Numpy\n",
    "# 1) torch.from_numpy(ndarray): NumPy array -> PyTorch tensor\n",
    "# 2) torch.Tensor.numpy(): PyTorch tensor -> NumPy array\n",
    "\n",
    "# Numpy array to tensor\n",
    "import torch\n",
    "import numpy as np\n",
    "array = np.arange(1.0, 8.0)\n",
    "tensor = torch.from_numpy(array)\n",
    "tensor_float32 = tensor.type(torch.float32)\n",
    "array, tensor, tensor_float32.dtype"
   ]
  },
  {
   "cell_type": "code",
   "execution_count": 173,
   "id": "03362eaa-f48c-4cba-a99d-cee80fb8b927",
   "metadata": {},
   "outputs": [
    {
     "data": {
      "text/plain": [
       "(tensor([1., 1., 1., 1., 1., 1., 1.]),\n",
       " array([1., 1., 1., 1., 1., 1., 1.], dtype=float32))"
      ]
     },
     "execution_count": 173,
     "metadata": {},
     "output_type": "execute_result"
    }
   ],
   "source": [
    "# Tensor to NumPy array\n",
    "tensor = torch.ones(7)\n",
    "numpy_tensor = tensor.numpy()\n",
    "tensor, numpy_tensor"
   ]
  },
  {
   "cell_type": "code",
   "execution_count": 175,
   "id": "ac12eb77-03b5-4bc1-bcec-df57ae37ed35",
   "metadata": {},
   "outputs": [
    {
     "name": "stdout",
     "output_type": "stream",
     "text": [
      "torch.float32\n",
      "Tensor A:\n",
      "tensor([[0.1800, 0.7177, 0.6988, 0.5510],\n",
      "        [0.2485, 0.8518, 0.0963, 0.1338],\n",
      "        [0.2741, 0.6142, 0.8973, 0.3629]])\n",
      "\n",
      "Tensor B:\n",
      "tensor([[0.1748, 0.2401, 0.5457, 0.7303],\n",
      "        [0.5268, 0.6694, 0.3213, 0.4008],\n",
      "        [0.2892, 0.9977, 0.6649, 0.5646]])\n",
      "\n",
      "Does tensor A equal tensor B?\n"
     ]
    },
    {
     "data": {
      "text/plain": [
       "tensor([[False, False, False, False],\n",
       "        [False, False, False, False],\n",
       "        [False, False, False, False]])"
      ]
     },
     "execution_count": 175,
     "metadata": {},
     "output_type": "execute_result"
    }
   ],
   "source": [
    "# Reproducibility (trying to take the random out of random)\n",
    "import torch\n",
    "\n",
    "# Create two random tensors\n",
    "random_tensor_A = torch.rand(3, 4)\n",
    "random_tensor_B = torch.rand(3, 4)\n",
    "\n",
    "print(random_tensor_A.dtype)\n",
    "print(f\"Tensor A:\\n{random_tensor_A}\\n\")\n",
    "print(f\"Tensor B:\\n{random_tensor_B}\\n\")\n",
    "print(f\"Does tensor A equal tensor B?\")\n",
    "random_tensor_A == random_tensor_B"
   ]
  },
  {
   "cell_type": "code",
   "execution_count": 177,
   "id": "9c465090-7431-411a-9fc1-ac784ed3ac32",
   "metadata": {},
   "outputs": [
    {
     "name": "stdout",
     "output_type": "stream",
     "text": [
      "Tensor C:\n",
      "tensor([[0.8823, 0.9150, 0.3829, 0.9593],\n",
      "        [0.3904, 0.6009, 0.2566, 0.7936],\n",
      "        [0.9408, 0.1332, 0.9346, 0.5936]])\n",
      "\n",
      "Tensor D:\n",
      "tensor([[0.8823, 0.9150, 0.3829, 0.9593],\n",
      "        [0.3904, 0.6009, 0.2566, 0.7936],\n",
      "        [0.9408, 0.1332, 0.9346, 0.5936]])\n",
      "\n",
      "Does tensor C equal tensor D?\n"
     ]
    },
    {
     "data": {
      "text/plain": [
       "tensor([[True, True, True, True],\n",
       "        [True, True, True, True],\n",
       "        [True, True, True, True]])"
      ]
     },
     "execution_count": 177,
     "metadata": {},
     "output_type": "execute_result"
    }
   ],
   "source": [
    "# seed 고정하여 reproducibility 확보\n",
    "import torch\n",
    "import random\n",
    "\n",
    "# Set the random seed\n",
    "random_seed = 42\n",
    "torch.manual_seed(seed=random_seed)\n",
    "random_tensor_C = torch.rand(3, 4)\n",
    "\n",
    "# Have to reset the seed every time a new rand() is called\n",
    "# Without this, tensor_D would be different to tensor_C\n",
    "torch.random.manual_seed(seed=random_seed)\n",
    "random_tensor_D = torch.rand(3, 4)\n",
    "\n",
    "print(f\"Tensor C:\\n{random_tensor_C}\\n\")\n",
    "print(f\"Tensor D:\\n{random_tensor_D}\\n\")\n",
    "print(f\"Does tensor C equal tensor D?\")\n",
    "random_tensor_C == random_tensor_D"
   ]
  },
  {
   "cell_type": "code",
   "execution_count": 178,
   "id": "a76711e0-f18d-4803-8b17-fe7d939f7f9c",
   "metadata": {},
   "outputs": [
    {
     "name": "stdout",
     "output_type": "stream",
     "text": [
      "Sat Dec  2 21:56:35 2023       \n",
      "+---------------------------------------------------------------------------------------+\n",
      "| NVIDIA-SMI 536.23                 Driver Version: 536.23       CUDA Version: 12.2     |\n",
      "|-----------------------------------------+----------------------+----------------------+\n",
      "| GPU  Name                     TCC/WDDM  | Bus-Id        Disp.A | Volatile Uncorr. ECC |\n",
      "| Fan  Temp   Perf          Pwr:Usage/Cap |         Memory-Usage | GPU-Util  Compute M. |\n",
      "|                                         |                      |               MIG M. |\n",
      "|=========================================+======================+======================|\n",
      "|   0  NVIDIA GeForce RTX 2070      WDDM  | 00000000:01:00.0  On |                  N/A |\n",
      "|  0%   46C    P8              29W / 215W |    547MiB /  8192MiB |      3%      Default |\n",
      "|                                         |                      |                  N/A |\n",
      "+-----------------------------------------+----------------------+----------------------+\n",
      "                                                                                         \n",
      "+---------------------------------------------------------------------------------------+\n",
      "| Processes:                                                                            |\n",
      "|  GPU   GI   CI        PID   Type   Process name                            GPU Memory |\n",
      "|        ID   ID                                                             Usage      |\n",
      "|=======================================================================================|\n",
      "|    0   N/A  N/A      2968    C+G   ...t.LockApp_cw5n1h2txyewy\\LockApp.exe    N/A      |\n",
      "|    0   N/A  N/A      4720    C+G   ...5n1h2txyewy\\ShellExperienceHost.exe    N/A      |\n",
      "|    0   N/A  N/A     10648    C+G   ...b3d8bbwe\\Microsoft.Media.Player.exe    N/A      |\n",
      "|    0   N/A  N/A     13000    C+G   ...CBS_cw5n1h2txyewy\\TextInputHost.exe    N/A      |\n",
      "|    0   N/A  N/A     14196    C+G   ...les\\Microsoft OneDrive\\OneDrive.exe    N/A      |\n",
      "|    0   N/A  N/A     14564    C+G   ...crosoft\\Edge\\Application\\msedge.exe    N/A      |\n",
      "|    0   N/A  N/A     14932      C   ...\\.conda\\envs\\huggingface\\python.exe    N/A      |\n",
      "|    0   N/A  N/A     16164    C+G   ...1.0_x64__8wekyb3d8bbwe\\Video.UI.exe    N/A      |\n",
      "|    0   N/A  N/A     16280    C+G   ....Search_cw5n1h2txyewy\\SearchApp.exe    N/A      |\n",
      "|    0   N/A  N/A     18200    C+G   ...ns\\Software\\Current\\LogiOverlay.exe    N/A      |\n",
      "|    0   N/A  N/A     18876    C+G   ...Programs\\Microsoft VS Code\\Code.exe    N/A      |\n",
      "|    0   N/A  N/A     20040    C+G   C:\\Windows\\explorer.exe                   N/A      |\n",
      "|    0   N/A  N/A     22488    C+G   ...\\HncUtils\\Service\\HncUpdateTray.exe    N/A      |\n",
      "|    0   N/A  N/A     24752    C+G   ...les\\Microsoft OneDrive\\OneDrive.exe    N/A      |\n",
      "|    0   N/A  N/A     26220    C+G   ....Search_cw5n1h2txyewy\\SearchApp.exe    N/A      |\n",
      "|    0   N/A  N/A     26960    C+G   ...oogle\\Chrome\\Application\\chrome.exe    N/A      |\n",
      "|    0   N/A  N/A     27180    C+G   ...Software\\Current\\LogiOptionsMgr.exe    N/A      |\n",
      "|    0   N/A  N/A     27188    C+G   ...\\Local\\slack\\app-4.35.126\\slack.exe    N/A      |\n",
      "|    0   N/A  N/A     28440    C+G   ...siveControlPanel\\SystemSettings.exe    N/A      |\n",
      "|    0   N/A  N/A     30064    C+G   ...ekyb3d8bbwe\\PhoneExperienceHost.exe    N/A      |\n",
      "|    0   N/A  N/A     32104    C+G   ...64__8wekyb3d8bbwe\\CalculatorApp.exe    N/A      |\n",
      "+---------------------------------------------------------------------------------------+\n"
     ]
    }
   ],
   "source": [
    "# Running tensors on GPUs\n",
    "!nvidia-smi"
   ]
  },
  {
   "cell_type": "code",
   "execution_count": 179,
   "id": "130618bd-7c8b-4557-a493-c97dc77c2999",
   "metadata": {},
   "outputs": [
    {
     "data": {
      "text/plain": [
       "True"
      ]
     },
     "execution_count": 179,
     "metadata": {},
     "output_type": "execute_result"
    }
   ],
   "source": [
    "# Check for GPU\n",
    "import torch\n",
    "torch.cuda.is_available()"
   ]
  },
  {
   "cell_type": "code",
   "execution_count": 180,
   "id": "587ecd58-8ea0-4a4d-a815-634a5dd4b2c6",
   "metadata": {},
   "outputs": [
    {
     "data": {
      "text/plain": [
       "'cuda'"
      ]
     },
     "execution_count": 180,
     "metadata": {},
     "output_type": "execute_result"
    }
   ],
   "source": [
    "# set device type\n",
    "device = \"cuda\" if torch.cuda.is_available() else \"cpu\"\n",
    "device"
   ]
  },
  {
   "cell_type": "code",
   "execution_count": 181,
   "id": "a30d8094-571f-4dc9-a26a-8a7913aa4dff",
   "metadata": {},
   "outputs": [
    {
     "data": {
      "text/plain": [
       "1"
      ]
     },
     "execution_count": 181,
     "metadata": {},
     "output_type": "execute_result"
    }
   ],
   "source": [
    "# count number of devices\n",
    "torch.cuda.device_count()"
   ]
  },
  {
   "cell_type": "code",
   "execution_count": 182,
   "id": "0123d912-059f-4d39-82c6-e5cbe9dc62db",
   "metadata": {},
   "outputs": [
    {
     "name": "stdout",
     "output_type": "stream",
     "text": [
      "tensor([1, 2, 3]) cpu\n"
     ]
    },
    {
     "data": {
      "text/plain": [
       "tensor([1, 2, 3], device='cuda:0')"
      ]
     },
     "execution_count": 182,
     "metadata": {},
     "output_type": "execute_result"
    }
   ],
   "source": [
    "# create tensor (default on CPU)\n",
    "tensor = torch.tensor([1, 2, 3])\n",
    "print(tensor, tensor.device)\n",
    "\n",
    "# move tensor to GPU\n",
    "tensor_on_gpu = tensor.to(device)\n",
    "tensor_on_gpu"
   ]
  },
  {
   "cell_type": "code",
   "execution_count": 183,
   "id": "f6f97d92-7167-4227-bc2d-1c61fb52e228",
   "metadata": {},
   "outputs": [
    {
     "ename": "TypeError",
     "evalue": "can't convert cuda:0 device type tensor to numpy. Use Tensor.cpu() to copy the tensor to host memory first.",
     "output_type": "error",
     "traceback": [
      "\u001b[1;31m---------------------------------------------------------------------------\u001b[0m",
      "\u001b[1;31mTypeError\u001b[0m                                 Traceback (most recent call last)",
      "Cell \u001b[1;32mIn[183], line 2\u001b[0m\n\u001b[0;32m      1\u001b[0m \u001b[38;5;66;03m# moving tensors back to the cpu\u001b[39;00m\n\u001b[1;32m----> 2\u001b[0m \u001b[43mtensor_on_gpu\u001b[49m\u001b[38;5;241;43m.\u001b[39;49m\u001b[43mnumpy\u001b[49m\u001b[43m(\u001b[49m\u001b[43m)\u001b[49m \u001b[38;5;66;03m# if tensor is on GPU, can't transform it to NumPy\u001b[39;00m\n",
      "\u001b[1;31mTypeError\u001b[0m: can't convert cuda:0 device type tensor to numpy. Use Tensor.cpu() to copy the tensor to host memory first."
     ]
    }
   ],
   "source": [
    "# moving tensors back to the cpu\n",
    "tensor_on_gpu.numpy() # if tensor is on GPU, can't transform it to NumPy"
   ]
  },
  {
   "cell_type": "code",
   "execution_count": 185,
   "id": "9fe821d6-c2ac-467b-895c-dc8adf8bfac2",
   "metadata": {},
   "outputs": [
    {
     "name": "stdout",
     "output_type": "stream",
     "text": [
      "[1 2 3]\n",
      "tensor([1, 2, 3], device='cuda:0')\n"
     ]
    }
   ],
   "source": [
    "# copy the tensor back to cpu\n",
    "tensor_back_on_cpu = tensor_on_gpu.cpu().numpy()\n",
    "print(tensor_back_on_cpu) # This returns a copy of the GPU tensor in CPU memory so the original tensor is still on GPU.\n",
    "print(tensor_on_gpu)"
   ]
  },
  {
   "cell_type": "markdown",
   "id": "59ff9ef3-352b-4765-8a62-8fb40261750c",
   "metadata": {},
   "source": [
    "## Exercise"
   ]
  },
  {
   "cell_type": "code",
   "execution_count": 2,
   "id": "49a9fa60-e945-4eb9-ba23-047c159eb779",
   "metadata": {},
   "outputs": [
    {
     "data": {
      "text/plain": [
       "tensor([[0.8433, 0.8080, 0.7886, 0.6693, 0.3823, 0.6352, 0.8437],\n",
       "        [0.8369, 0.3016, 0.9146, 0.0465, 0.0906, 0.0042, 0.2602],\n",
       "        [0.2262, 0.7364, 0.4065, 0.7176, 0.6078, 0.8814, 0.4618],\n",
       "        [0.5631, 0.2316, 0.3803, 0.9312, 0.7173, 0.1279, 0.6280],\n",
       "        [0.8939, 0.9596, 0.7660, 0.9193, 0.0274, 0.7126, 0.1019],\n",
       "        [0.6479, 0.2734, 0.1139, 0.4261, 0.2471, 0.3187, 0.6862],\n",
       "        [0.2263, 0.8074, 0.1056, 0.9638, 0.7673, 0.4702, 0.3071]])"
      ]
     },
     "execution_count": 2,
     "metadata": {},
     "output_type": "execute_result"
    }
   ],
   "source": [
    "# 2. Create a random tensor with shape (7, 7).\n",
    "import torch\n",
    "\n",
    "rand_tensor_a = torch.rand(size=(7, 7))\n",
    "rand_tensor_a"
   ]
  },
  {
   "cell_type": "code",
   "execution_count": 4,
   "id": "4d3b4785-b259-47f8-9687-66a7028402d7",
   "metadata": {},
   "outputs": [
    {
     "name": "stdout",
     "output_type": "stream",
     "text": [
      "tensor([[3.1840],\n",
      "        [1.6968],\n",
      "        [2.6625],\n",
      "        [2.5103],\n",
      "        [2.8902],\n",
      "        [1.7006],\n",
      "        [2.4422]])\n",
      "tensor([[3.1840],\n",
      "        [1.6968],\n",
      "        [2.6625],\n",
      "        [2.5103],\n",
      "        [2.8902],\n",
      "        [1.7006],\n",
      "        [2.4422]])\n"
     ]
    }
   ],
   "source": [
    "# 3. Perform a matrix multiplication on the tensor from 2 with another random tensor \n",
    "# with shape (1, 7) (hint: you may have to transpose the second tensor).\n",
    "\n",
    "rand_tensor_b = torch.rand(size=(1, 7))\n",
    "print(rand_tensor_a @ rand_tensor_b.T)\n",
    "print(torch.mm(rand_tensor_a, rand_tensor_b.T))"
   ]
  },
  {
   "cell_type": "code",
   "execution_count": 6,
   "id": "ad9db052-ab0f-4c76-b946-cc6d9e5564e9",
   "metadata": {},
   "outputs": [
    {
     "name": "stdout",
     "output_type": "stream",
     "text": [
      "tensor([[0.4963, 0.7682, 0.0885, 0.1320, 0.3074, 0.6341, 0.4901],\n",
      "        [0.8964, 0.4556, 0.6323, 0.3489, 0.4017, 0.0223, 0.1689],\n",
      "        [0.2939, 0.5185, 0.6977, 0.8000, 0.1610, 0.2823, 0.6816],\n",
      "        [0.9152, 0.3971, 0.8742, 0.4194, 0.5529, 0.9527, 0.0362],\n",
      "        [0.1852, 0.3734, 0.3051, 0.9320, 0.1759, 0.2698, 0.1507],\n",
      "        [0.0317, 0.2081, 0.9298, 0.7231, 0.7423, 0.5263, 0.2437],\n",
      "        [0.5846, 0.0332, 0.1387, 0.2422, 0.8155, 0.7932, 0.2783]])\n",
      "tensor([[1.8542],\n",
      "        [1.9611],\n",
      "        [2.2884],\n",
      "        [3.0481],\n",
      "        [1.7067],\n",
      "        [2.5290],\n",
      "        [1.7989]])\n"
     ]
    }
   ],
   "source": [
    "# 4. Set the random seed to 0 and do 2 & 3 over again.\n",
    "random_seed = 0\n",
    "torch.manual_seed(seed=random_seed)\n",
    "\n",
    "# 2\n",
    "rand_tensor_a1 = torch.rand(size=(7, 7))\n",
    "print(rand_tensor_a1)\n",
    "\n",
    "# 3\n",
    "rand_tensor_b1 = torch.rand(size=(1, 7))\n",
    "print(torch.mm(rand_tensor_a1, rand_tensor_b1.T))"
   ]
  },
  {
   "cell_type": "code",
   "execution_count": 9,
   "id": "81c08cf3-d13d-4c41-aed2-d3adaab2ba06",
   "metadata": {},
   "outputs": [
    {
     "name": "stdout",
     "output_type": "stream",
     "text": [
      "True\n"
     ]
    },
    {
     "data": {
      "text/plain": [
       "tensor([[0.4369, 0.5191, 0.6159],\n",
       "        [0.8102, 0.9801, 0.1147],\n",
       "        [0.3168, 0.6965, 0.9143]], device='cuda:0')"
      ]
     },
     "execution_count": 9,
     "metadata": {},
     "output_type": "execute_result"
    }
   ],
   "source": [
    "# 5. Speaking of random seeds, we saw how to set it with torch.manual_seed() \n",
    "# but is there a GPU equivalent? (hint: you'll need to look into the documentation for torch.cuda for this one)\n",
    "print(torch.cuda.is_available())\n",
    "\n",
    "cuda = torch.device(\"cuda\")\n",
    "\n",
    "x = torch.rand(size=(3, 3)).cuda()\n",
    "x"
   ]
  },
  {
   "cell_type": "code",
   "execution_count": 12,
   "id": "a49bed72-3d20-48fd-b92f-42a60325aa4f",
   "metadata": {},
   "outputs": [
    {
     "name": "stdout",
     "output_type": "stream",
     "text": [
      "cuda\n"
     ]
    },
    {
     "data": {
      "text/plain": [
       "(tensor([[0.0290, 0.4019, 0.2598],\n",
       "         [0.3666, 0.0583, 0.7006]], device='cuda:0'),\n",
       " tensor([[0.0518, 0.4681, 0.6738],\n",
       "         [0.3315, 0.7837, 0.5631]], device='cuda:0'))"
      ]
     },
     "execution_count": 12,
     "metadata": {},
     "output_type": "execute_result"
    }
   ],
   "source": [
    "# 6. Create two random tensors of shape (2, 3) and send them both to the GPU \n",
    "# (you'll need access to a GPU for this). \n",
    "# Set torch.manual_seed(1234) when creating the tensors (this doesn't have to be the GPU random seed). \n",
    "\n",
    "torch.manual_seed(1234)\n",
    "\n",
    "rand_tensor_a = torch.rand(size=(2, 3))\n",
    "rand_tensor_b = torch.rand(size=(2, 3))\n",
    "\n",
    "device = \"cuda\" if torch.cuda.is_available() else \"cpu\"\n",
    "print(device)\n",
    "\n",
    "gpu_tensor_a = rand_tensor_a.to(device)\n",
    "gpu_tensor_b = rand_tensor_b.to(device)\n",
    "\n",
    "gpu_tensor_a, gpu_tensor_b"
   ]
  },
  {
   "cell_type": "code",
   "execution_count": 18,
   "id": "fc4763e8-3f61-4749-9558-f0b74cd7763b",
   "metadata": {},
   "outputs": [
    {
     "name": "stdout",
     "output_type": "stream",
     "text": [
      "torch.Size([2, 3]) torch.Size([2, 3])\n"
     ]
    },
    {
     "data": {
      "text/plain": [
       "tensor([[0.3647, 0.4709],\n",
       "        [0.5184, 0.5617]], device='cuda:0')"
      ]
     },
     "execution_count": 18,
     "metadata": {},
     "output_type": "execute_result"
    }
   ],
   "source": [
    "# 7. Perform a matrix multiplication on the tensors you created in 6 \n",
    "# (again, you may have to adjust the shapes of one of the tensors).\n",
    "\n",
    "print(gpu_tensor_a.shape, gpu_tensor_b.shape)\n",
    "\n",
    "mm1 = torch.mm(gpu_tensor_a, gpu_tensor_b.T)\n",
    "mm1"
   ]
  },
  {
   "cell_type": "code",
   "execution_count": 20,
   "id": "12ea2933-9209-492d-a7a2-0964056b65d2",
   "metadata": {},
   "outputs": [
    {
     "data": {
      "text/plain": [
       "(tensor(0.5617, device='cuda:0'), tensor(0.3647, device='cuda:0'))"
      ]
     },
     "execution_count": 20,
     "metadata": {},
     "output_type": "execute_result"
    }
   ],
   "source": [
    "# 8. Find the maximum and minimum values of the output of 7.\n",
    "mm1.max(), mm1.min()"
   ]
  },
  {
   "cell_type": "code",
   "execution_count": 21,
   "id": "7535ba0a-6a09-4ba4-af47-8c60be0651b7",
   "metadata": {},
   "outputs": [
    {
     "data": {
      "text/plain": [
       "(tensor(3, device='cuda:0'), tensor(0, device='cuda:0'))"
      ]
     },
     "execution_count": 21,
     "metadata": {},
     "output_type": "execute_result"
    }
   ],
   "source": [
    "# 9. Find the maximum and minimum index values of the output of 7.\n",
    "mm1.argmax(), mm1.argmin()"
   ]
  },
  {
   "cell_type": "code",
   "execution_count": 22,
   "id": "5a49cdb6-dcf0-451b-8614-786db0f100cb",
   "metadata": {},
   "outputs": [
    {
     "name": "stdout",
     "output_type": "stream",
     "text": [
      "Firts tensor: tensor([[[[0.5349, 0.1988, 0.6592, 0.6569, 0.2328, 0.4251, 0.2071, 0.6297,\n",
      "           0.3653, 0.8513]]]])\n",
      "First shape: torch.Size([1, 1, 1, 10])\n",
      "\n",
      "Second tensor: tensor([0.5349, 0.1988, 0.6592, 0.6569, 0.2328, 0.4251, 0.2071, 0.6297, 0.3653,\n",
      "        0.8513])\n",
      "Second shape: torch.Size([10])\n"
     ]
    }
   ],
   "source": [
    "# 10. Make a random tensor with shape (1, 1, 1, 10) \n",
    "# and then create a new tensor with all the 1 dimensions removed to be left \n",
    "# with a tensor of shape (10). \n",
    "# Set the seed to 7 when you create it and print out the first tensor and it's shape \n",
    "# as well as the second tensor and it's shape.\n",
    "\n",
    "import torch\n",
    "\n",
    "torch.manual_seed(7)\n",
    "\n",
    "rand_tensor_A = torch.rand(size=(1, 1, 1, 10))\n",
    "new_tensor_A = rand_tensor_A.squeeze()\n",
    "\n",
    "print(f\"Firts tensor: {rand_tensor_A}\")\n",
    "print(f\"First shape: {rand_tensor_A.shape}\\n\")\n",
    "print(f\"Second tensor: {new_tensor_A}\")\n",
    "print(f\"Second shape: {new_tensor_A.shape}\")"
   ]
  }
 ],
 "metadata": {
  "kernelspec": {
   "display_name": "huggingface",
   "language": "python",
   "name": "huggingface"
  },
  "language_info": {
   "codemirror_mode": {
    "name": "ipython",
    "version": 3
   },
   "file_extension": ".py",
   "mimetype": "text/x-python",
   "name": "python",
   "nbconvert_exporter": "python",
   "pygments_lexer": "ipython3",
   "version": "3.8.18"
  }
 },
 "nbformat": 4,
 "nbformat_minor": 5
}
